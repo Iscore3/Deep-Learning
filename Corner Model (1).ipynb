{
 "cells": [
  {
   "cell_type": "markdown",
   "metadata": {},
   "source": [
    "# Deep Learning model for predicting the number of corners in a football match"
   ]
  },
  {
   "cell_type": "markdown",
   "metadata": {},
   "source": [
    "### Import starting data from excel\n",
    "#### Starting data contains the premier league football games from the previous 7 years and has variables like, odds for the match, the strength of the team, avarage corner/free kick/goals/etc. on the last 10 match for both home and away team"
   ]
  },
  {
   "cell_type": "code",
   "execution_count": 2,
   "metadata": {},
   "outputs": [
    {
     "data": {
      "text/html": [
       "<div>\n",
       "<style scoped>\n",
       "    .dataframe tbody tr th:only-of-type {\n",
       "        vertical-align: middle;\n",
       "    }\n",
       "\n",
       "    .dataframe tbody tr th {\n",
       "        vertical-align: top;\n",
       "    }\n",
       "\n",
       "    .dataframe thead th {\n",
       "        text-align: right;\n",
       "    }\n",
       "</style>\n",
       "<table border=\"1\" class=\"dataframe\">\n",
       "  <thead>\n",
       "    <tr style=\"text-align: right;\">\n",
       "      <th></th>\n",
       "      <th>ID</th>\n",
       "      <th>Date</th>\n",
       "      <th>HomeTeam</th>\n",
       "      <th>AwayTeam</th>\n",
       "      <th>B365H</th>\n",
       "      <th>B365D</th>\n",
       "      <th>B365A</th>\n",
       "      <th>B365&gt;2.5</th>\n",
       "      <th>B365&lt;2.5</th>\n",
       "      <th>B365 H-A</th>\n",
       "      <th>...</th>\n",
       "      <th>AwayTeam_10M_avaragesum corner</th>\n",
       "      <th>AwayTeam_10M_avarageCorner/Free kick %</th>\n",
       "      <th>AwayTeam_10M_avarageShots/Corner</th>\n",
       "      <th>AwayTeam_10M_avarageGoals/Corner</th>\n",
       "      <th>AwayTeam_10M_avarageYellow</th>\n",
       "      <th>AwayTeam_10M_avaragesum yellow</th>\n",
       "      <th>AwayTeam_10M_avarageRed</th>\n",
       "      <th>AwayTeam_10M_avaragesum red</th>\n",
       "      <th>corner_9_5</th>\n",
       "      <th>corner_10_5</th>\n",
       "    </tr>\n",
       "  </thead>\n",
       "  <tbody>\n",
       "    <tr>\n",
       "      <th>0</th>\n",
       "      <td>27/12/2019WolvesMan City</td>\n",
       "      <td>27/12/2019</td>\n",
       "      <td>Wolves</td>\n",
       "      <td>Man City</td>\n",
       "      <td>8.50</td>\n",
       "      <td>5.00</td>\n",
       "      <td>1.36</td>\n",
       "      <td>1.57</td>\n",
       "      <td>2.37</td>\n",
       "      <td>7.14</td>\n",
       "      <td>...</td>\n",
       "      <td>12.5</td>\n",
       "      <td>1.266569</td>\n",
       "      <td>2.444544</td>\n",
       "      <td>0.335451</td>\n",
       "      <td>2.0</td>\n",
       "      <td>3.1</td>\n",
       "      <td>0.1</td>\n",
       "      <td>0.1</td>\n",
       "      <td>0</td>\n",
       "      <td>0</td>\n",
       "    </tr>\n",
       "    <tr>\n",
       "      <th>1</th>\n",
       "      <td>26/12/2019TottenhamBrighton</td>\n",
       "      <td>26/12/2019</td>\n",
       "      <td>Tottenham</td>\n",
       "      <td>Brighton</td>\n",
       "      <td>1.53</td>\n",
       "      <td>4.33</td>\n",
       "      <td>6.00</td>\n",
       "      <td>1.61</td>\n",
       "      <td>2.30</td>\n",
       "      <td>4.47</td>\n",
       "      <td>...</td>\n",
       "      <td>9.9</td>\n",
       "      <td>0.469910</td>\n",
       "      <td>2.614008</td>\n",
       "      <td>0.258175</td>\n",
       "      <td>1.7</td>\n",
       "      <td>2.9</td>\n",
       "      <td>0.1</td>\n",
       "      <td>0.2</td>\n",
       "      <td>1</td>\n",
       "      <td>1</td>\n",
       "    </tr>\n",
       "    <tr>\n",
       "      <th>2</th>\n",
       "      <td>26/12/2019Aston VillaNorwich</td>\n",
       "      <td>26/12/2019</td>\n",
       "      <td>Aston Villa</td>\n",
       "      <td>Norwich</td>\n",
       "      <td>2.10</td>\n",
       "      <td>3.75</td>\n",
       "      <td>3.30</td>\n",
       "      <td>1.53</td>\n",
       "      <td>2.50</td>\n",
       "      <td>1.20</td>\n",
       "      <td>...</td>\n",
       "      <td>12.9</td>\n",
       "      <td>0.636632</td>\n",
       "      <td>3.785079</td>\n",
       "      <td>0.326587</td>\n",
       "      <td>2.1</td>\n",
       "      <td>3.9</td>\n",
       "      <td>0.0</td>\n",
       "      <td>0.1</td>\n",
       "      <td>1</td>\n",
       "      <td>1</td>\n",
       "    </tr>\n",
       "    <tr>\n",
       "      <th>3</th>\n",
       "      <td>26/12/2019BournemouthArsenal</td>\n",
       "      <td>26/12/2019</td>\n",
       "      <td>Bournemouth</td>\n",
       "      <td>Arsenal</td>\n",
       "      <td>3.50</td>\n",
       "      <td>3.90</td>\n",
       "      <td>1.95</td>\n",
       "      <td>1.57</td>\n",
       "      <td>2.37</td>\n",
       "      <td>1.55</td>\n",
       "      <td>...</td>\n",
       "      <td>13.5</td>\n",
       "      <td>0.715851</td>\n",
       "      <td>1.675000</td>\n",
       "      <td>0.190278</td>\n",
       "      <td>2.1</td>\n",
       "      <td>4.1</td>\n",
       "      <td>0.0</td>\n",
       "      <td>0.0</td>\n",
       "      <td>1</td>\n",
       "      <td>1</td>\n",
       "    </tr>\n",
       "    <tr>\n",
       "      <th>4</th>\n",
       "      <td>26/12/2019ChelseaSouthampton</td>\n",
       "      <td>26/12/2019</td>\n",
       "      <td>Chelsea</td>\n",
       "      <td>Southampton</td>\n",
       "      <td>1.33</td>\n",
       "      <td>5.25</td>\n",
       "      <td>9.00</td>\n",
       "      <td>1.50</td>\n",
       "      <td>2.62</td>\n",
       "      <td>7.67</td>\n",
       "      <td>...</td>\n",
       "      <td>11.8</td>\n",
       "      <td>0.477563</td>\n",
       "      <td>2.394167</td>\n",
       "      <td>0.213333</td>\n",
       "      <td>1.3</td>\n",
       "      <td>3.3</td>\n",
       "      <td>0.1</td>\n",
       "      <td>0.1</td>\n",
       "      <td>0</td>\n",
       "      <td>0</td>\n",
       "    </tr>\n",
       "  </tbody>\n",
       "</table>\n",
       "<p>5 rows × 58 columns</p>\n",
       "</div>"
      ],
      "text/plain": [
       "                             ID        Date     HomeTeam     AwayTeam  B365H  \\\n",
       "0      27/12/2019WolvesMan City  27/12/2019       Wolves     Man City   8.50   \n",
       "1   26/12/2019TottenhamBrighton  26/12/2019    Tottenham     Brighton   1.53   \n",
       "2  26/12/2019Aston VillaNorwich  26/12/2019  Aston Villa      Norwich   2.10   \n",
       "3  26/12/2019BournemouthArsenal  26/12/2019  Bournemouth      Arsenal   3.50   \n",
       "4  26/12/2019ChelseaSouthampton  26/12/2019      Chelsea  Southampton   1.33   \n",
       "\n",
       "   B365D  B365A  B365>2.5  B365<2.5  B365 H-A  ...  \\\n",
       "0   5.00   1.36      1.57      2.37      7.14  ...   \n",
       "1   4.33   6.00      1.61      2.30      4.47  ...   \n",
       "2   3.75   3.30      1.53      2.50      1.20  ...   \n",
       "3   3.90   1.95      1.57      2.37      1.55  ...   \n",
       "4   5.25   9.00      1.50      2.62      7.67  ...   \n",
       "\n",
       "   AwayTeam_10M_avaragesum corner  AwayTeam_10M_avarageCorner/Free kick %  \\\n",
       "0                            12.5                                1.266569   \n",
       "1                             9.9                                0.469910   \n",
       "2                            12.9                                0.636632   \n",
       "3                            13.5                                0.715851   \n",
       "4                            11.8                                0.477563   \n",
       "\n",
       "   AwayTeam_10M_avarageShots/Corner  AwayTeam_10M_avarageGoals/Corner  \\\n",
       "0                          2.444544                          0.335451   \n",
       "1                          2.614008                          0.258175   \n",
       "2                          3.785079                          0.326587   \n",
       "3                          1.675000                          0.190278   \n",
       "4                          2.394167                          0.213333   \n",
       "\n",
       "   AwayTeam_10M_avarageYellow  AwayTeam_10M_avaragesum yellow  \\\n",
       "0                         2.0                             3.1   \n",
       "1                         1.7                             2.9   \n",
       "2                         2.1                             3.9   \n",
       "3                         2.1                             4.1   \n",
       "4                         1.3                             3.3   \n",
       "\n",
       "   AwayTeam_10M_avarageRed  AwayTeam_10M_avaragesum red  corner_9_5  \\\n",
       "0                      0.1                          0.1           0   \n",
       "1                      0.1                          0.2           1   \n",
       "2                      0.0                          0.1           1   \n",
       "3                      0.0                          0.0           1   \n",
       "4                      0.1                          0.1           0   \n",
       "\n",
       "   corner_10_5  \n",
       "0            0  \n",
       "1            1  \n",
       "2            1  \n",
       "3            1  \n",
       "4            0  \n",
       "\n",
       "[5 rows x 58 columns]"
      ]
     },
     "execution_count": 2,
     "metadata": {},
     "output_type": "execute_result"
    }
   ],
   "source": [
    "\n",
    "import types\n",
    "import pandas as pd\n",
    "from botocore.client import Config\n",
    "import ibm_boto3\n",
    "\n",
    "def __iter__(self): return 0\n",
    "\n",
    "# @hidden_cell\n",
    "# The following code accesses a file in your IBM Cloud Object Storage. It includes your credentials.\n",
    "# You might want to remove those credentials before you share the notebook.\n",
    "client_bc050f45180b4c1bb8886542b85a43fe = ibm_boto3.client(service_name='s3',\n",
    "    ibm_api_key_id='xJ2wPgGOIN_BHKjLVYpM3__wCyHK6s98gBYL2bVzQcOB',\n",
    "    ibm_auth_endpoint=\"https://iam.ng.bluemix.net/oidc/token\",\n",
    "    config=Config(signature_version='oauth'),\n",
    "    endpoint_url='https://s3-api.us-geo.objectstorage.service.networklayer.com')\n",
    "\n",
    "body = client_bc050f45180b4c1bb8886542b85a43fe.get_object(Bucket='corner-donotdelete-pr-vmvgllkodfzoji',Key='Modelling_input.xlsx')['Body']\n",
    "# add missing __iter__ method, so pandas accepts body as file-like object\n",
    "if not hasattr(body, \"__iter__\"): body.__iter__ = types.MethodType( __iter__, body )\n",
    "\n",
    "df_data_0 = pd.read_excel(body)\n",
    "df_data_0.head()\n"
   ]
  },
  {
   "cell_type": "code",
   "execution_count": 3,
   "metadata": {},
   "outputs": [
    {
     "data": {
      "text/plain": [
       "(2449, 58)"
      ]
     },
     "execution_count": 3,
     "metadata": {},
     "output_type": "execute_result"
    }
   ],
   "source": [
    "df_data_0.shape"
   ]
  },
  {
   "cell_type": "markdown",
   "metadata": {},
   "source": [
    "#### Drop unnecessary columns"
   ]
  },
  {
   "cell_type": "code",
   "execution_count": 4,
   "metadata": {},
   "outputs": [
    {
     "data": {
      "text/html": [
       "<div>\n",
       "<style scoped>\n",
       "    .dataframe tbody tr th:only-of-type {\n",
       "        vertical-align: middle;\n",
       "    }\n",
       "\n",
       "    .dataframe tbody tr th {\n",
       "        vertical-align: top;\n",
       "    }\n",
       "\n",
       "    .dataframe thead th {\n",
       "        text-align: right;\n",
       "    }\n",
       "</style>\n",
       "<table border=\"1\" class=\"dataframe\">\n",
       "  <thead>\n",
       "    <tr style=\"text-align: right;\">\n",
       "      <th></th>\n",
       "      <th>B365H</th>\n",
       "      <th>B365D</th>\n",
       "      <th>B365A</th>\n",
       "      <th>B365&gt;2.5</th>\n",
       "      <th>B365&lt;2.5</th>\n",
       "      <th>B365 H-A</th>\n",
       "      <th>Place home</th>\n",
       "      <th>Place away</th>\n",
       "      <th>Place diff</th>\n",
       "      <th>Place sum</th>\n",
       "      <th>...</th>\n",
       "      <th>AwayTeam_10M_avaragesum free kick</th>\n",
       "      <th>AwayTeam_10M_avarageCorner</th>\n",
       "      <th>AwayTeam_10M_avaragesum corner</th>\n",
       "      <th>AwayTeam_10M_avarageCorner/Free kick %</th>\n",
       "      <th>AwayTeam_10M_avarageShots/Corner</th>\n",
       "      <th>AwayTeam_10M_avarageGoals/Corner</th>\n",
       "      <th>AwayTeam_10M_avarageYellow</th>\n",
       "      <th>AwayTeam_10M_avaragesum yellow</th>\n",
       "      <th>AwayTeam_10M_avarageRed</th>\n",
       "      <th>AwayTeam_10M_avaragesum red</th>\n",
       "    </tr>\n",
       "  </thead>\n",
       "  <tbody>\n",
       "    <tr>\n",
       "      <th>0</th>\n",
       "      <td>8.50</td>\n",
       "      <td>5.00</td>\n",
       "      <td>1.36</td>\n",
       "      <td>1.57</td>\n",
       "      <td>2.37</td>\n",
       "      <td>7.14</td>\n",
       "      <td>7</td>\n",
       "      <td>3</td>\n",
       "      <td>4</td>\n",
       "      <td>10</td>\n",
       "      <td>...</td>\n",
       "      <td>18.4</td>\n",
       "      <td>10.0</td>\n",
       "      <td>12.5</td>\n",
       "      <td>1.266569</td>\n",
       "      <td>2.444544</td>\n",
       "      <td>0.335451</td>\n",
       "      <td>2.0</td>\n",
       "      <td>3.1</td>\n",
       "      <td>0.1</td>\n",
       "      <td>0.1</td>\n",
       "    </tr>\n",
       "    <tr>\n",
       "      <th>1</th>\n",
       "      <td>1.53</td>\n",
       "      <td>4.33</td>\n",
       "      <td>6.00</td>\n",
       "      <td>1.61</td>\n",
       "      <td>2.30</td>\n",
       "      <td>4.47</td>\n",
       "      <td>6</td>\n",
       "      <td>14</td>\n",
       "      <td>8</td>\n",
       "      <td>20</td>\n",
       "      <td>...</td>\n",
       "      <td>19.0</td>\n",
       "      <td>4.9</td>\n",
       "      <td>9.9</td>\n",
       "      <td>0.469910</td>\n",
       "      <td>2.614008</td>\n",
       "      <td>0.258175</td>\n",
       "      <td>1.7</td>\n",
       "      <td>2.9</td>\n",
       "      <td>0.1</td>\n",
       "      <td>0.2</td>\n",
       "    </tr>\n",
       "    <tr>\n",
       "      <th>2</th>\n",
       "      <td>2.10</td>\n",
       "      <td>3.75</td>\n",
       "      <td>3.30</td>\n",
       "      <td>1.53</td>\n",
       "      <td>2.50</td>\n",
       "      <td>1.20</td>\n",
       "      <td>16</td>\n",
       "      <td>20</td>\n",
       "      <td>4</td>\n",
       "      <td>36</td>\n",
       "      <td>...</td>\n",
       "      <td>20.6</td>\n",
       "      <td>5.2</td>\n",
       "      <td>12.9</td>\n",
       "      <td>0.636632</td>\n",
       "      <td>3.785079</td>\n",
       "      <td>0.326587</td>\n",
       "      <td>2.1</td>\n",
       "      <td>3.9</td>\n",
       "      <td>0.0</td>\n",
       "      <td>0.1</td>\n",
       "    </tr>\n",
       "    <tr>\n",
       "      <th>3</th>\n",
       "      <td>3.50</td>\n",
       "      <td>3.90</td>\n",
       "      <td>1.95</td>\n",
       "      <td>1.57</td>\n",
       "      <td>2.37</td>\n",
       "      <td>1.55</td>\n",
       "      <td>17</td>\n",
       "      <td>13</td>\n",
       "      <td>4</td>\n",
       "      <td>30</td>\n",
       "      <td>...</td>\n",
       "      <td>23.3</td>\n",
       "      <td>7.3</td>\n",
       "      <td>13.5</td>\n",
       "      <td>0.715851</td>\n",
       "      <td>1.675000</td>\n",
       "      <td>0.190278</td>\n",
       "      <td>2.1</td>\n",
       "      <td>4.1</td>\n",
       "      <td>0.0</td>\n",
       "      <td>0.0</td>\n",
       "    </tr>\n",
       "    <tr>\n",
       "      <th>4</th>\n",
       "      <td>1.33</td>\n",
       "      <td>5.25</td>\n",
       "      <td>9.00</td>\n",
       "      <td>1.50</td>\n",
       "      <td>2.62</td>\n",
       "      <td>7.67</td>\n",
       "      <td>4</td>\n",
       "      <td>12</td>\n",
       "      <td>8</td>\n",
       "      <td>16</td>\n",
       "      <td>...</td>\n",
       "      <td>23.6</td>\n",
       "      <td>5.2</td>\n",
       "      <td>11.8</td>\n",
       "      <td>0.477563</td>\n",
       "      <td>2.394167</td>\n",
       "      <td>0.213333</td>\n",
       "      <td>1.3</td>\n",
       "      <td>3.3</td>\n",
       "      <td>0.1</td>\n",
       "      <td>0.1</td>\n",
       "    </tr>\n",
       "  </tbody>\n",
       "</table>\n",
       "<p>5 rows × 52 columns</p>\n",
       "</div>"
      ],
      "text/plain": [
       "   B365H  B365D  B365A  B365>2.5  B365<2.5  B365 H-A  Place home  Place away  \\\n",
       "0   8.50   5.00   1.36      1.57      2.37      7.14           7           3   \n",
       "1   1.53   4.33   6.00      1.61      2.30      4.47           6          14   \n",
       "2   2.10   3.75   3.30      1.53      2.50      1.20          16          20   \n",
       "3   3.50   3.90   1.95      1.57      2.37      1.55          17          13   \n",
       "4   1.33   5.25   9.00      1.50      2.62      7.67           4          12   \n",
       "\n",
       "   Place diff  Place sum  ...  AwayTeam_10M_avaragesum free kick  \\\n",
       "0           4         10  ...                               18.4   \n",
       "1           8         20  ...                               19.0   \n",
       "2           4         36  ...                               20.6   \n",
       "3           4         30  ...                               23.3   \n",
       "4           8         16  ...                               23.6   \n",
       "\n",
       "   AwayTeam_10M_avarageCorner  AwayTeam_10M_avaragesum corner  \\\n",
       "0                        10.0                            12.5   \n",
       "1                         4.9                             9.9   \n",
       "2                         5.2                            12.9   \n",
       "3                         7.3                            13.5   \n",
       "4                         5.2                            11.8   \n",
       "\n",
       "   AwayTeam_10M_avarageCorner/Free kick %  AwayTeam_10M_avarageShots/Corner  \\\n",
       "0                                1.266569                          2.444544   \n",
       "1                                0.469910                          2.614008   \n",
       "2                                0.636632                          3.785079   \n",
       "3                                0.715851                          1.675000   \n",
       "4                                0.477563                          2.394167   \n",
       "\n",
       "   AwayTeam_10M_avarageGoals/Corner  AwayTeam_10M_avarageYellow  \\\n",
       "0                          0.335451                         2.0   \n",
       "1                          0.258175                         1.7   \n",
       "2                          0.326587                         2.1   \n",
       "3                          0.190278                         2.1   \n",
       "4                          0.213333                         1.3   \n",
       "\n",
       "   AwayTeam_10M_avaragesum yellow  AwayTeam_10M_avarageRed  \\\n",
       "0                             3.1                      0.1   \n",
       "1                             2.9                      0.1   \n",
       "2                             3.9                      0.0   \n",
       "3                             4.1                      0.0   \n",
       "4                             3.3                      0.1   \n",
       "\n",
       "   AwayTeam_10M_avaragesum red  \n",
       "0                          0.1  \n",
       "1                          0.2  \n",
       "2                          0.1  \n",
       "3                          0.0  \n",
       "4                          0.1  \n",
       "\n",
       "[5 rows x 52 columns]"
      ]
     },
     "execution_count": 4,
     "metadata": {},
     "output_type": "execute_result"
    }
   ],
   "source": [
    "X=df_data_0.drop(columns=['ID','Date','HomeTeam','AwayTeam','corner_9_5','corner_10_5'])\n",
    "X.head()"
   ]
  },
  {
   "cell_type": "code",
   "execution_count": 5,
   "metadata": {},
   "outputs": [
    {
     "data": {
      "text/plain": [
       "array([[0],\n",
       "       [1],\n",
       "       [1],\n",
       "       ...,\n",
       "       [0],\n",
       "       [0],\n",
       "       [0]])"
      ]
     },
     "execution_count": 5,
     "metadata": {},
     "output_type": "execute_result"
    }
   ],
   "source": [
    "Y=df_data_0[['corner_9_5']].values\n",
    "Y"
   ]
  },
  {
   "cell_type": "markdown",
   "metadata": {},
   "source": [
    "### Prepare data"
   ]
  },
  {
   "cell_type": "code",
   "execution_count": 6,
   "metadata": {},
   "outputs": [],
   "source": [
    "from sklearn import preprocessing\n",
    "from sklearn.preprocessing import StandardScaler\n",
    "import numpy as np"
   ]
  },
  {
   "cell_type": "code",
   "execution_count": 7,
   "metadata": {},
   "outputs": [
    {
     "name": "stderr",
     "output_type": "stream",
     "text": [
      "/opt/conda/envs/Python36/lib/python3.6/site-packages/sklearn/preprocessing/data.py:645: DataConversionWarning: Data with input dtype int64, float64 were all converted to float64 by StandardScaler.\n",
      "  return self.partial_fit(X, y)\n",
      "/opt/conda/envs/Python36/lib/python3.6/site-packages/sklearn/base.py:464: DataConversionWarning: Data with input dtype int64, float64 were all converted to float64 by StandardScaler.\n",
      "  return self.fit(X, **fit_params).transform(X)\n"
     ]
    },
    {
     "data": {
      "text/plain": [
       "(2449, 52)"
      ]
     },
     "execution_count": 7,
     "metadata": {},
     "output_type": "execute_result"
    }
   ],
   "source": [
    "scaler = StandardScaler()\n",
    "X_std=scaler.fit_transform(X)\n",
    "X_std.shape"
   ]
  },
  {
   "cell_type": "code",
   "execution_count": 8,
   "metadata": {},
   "outputs": [],
   "source": [
    "from sklearn.model_selection import train_test_split\n",
    "X_trainset, X_testset, y_trainset, y_testset = train_test_split(X_std, Y, test_size=0.3, random_state=3)\n"
   ]
  },
  {
   "cell_type": "markdown",
   "metadata": {},
   "source": [
    "### Model parameters"
   ]
  },
  {
   "cell_type": "code",
   "execution_count": 9,
   "metadata": {},
   "outputs": [],
   "source": [
    "import tensorflow as tf\n",
    "from tensorflow import keras\n"
   ]
  },
  {
   "cell_type": "code",
   "execution_count": 10,
   "metadata": {},
   "outputs": [],
   "source": [
    "model = keras.Sequential([\n",
    "    keras.layers.Dense(4, activation='relu'),\n",
    "    keras.layers.Dense(4, activation='relu'),\n",
    "    keras.layers.Dense(1, activation='sigmoid')\n",
    "    \n",
    "])"
   ]
  },
  {
   "cell_type": "code",
   "execution_count": 11,
   "metadata": {},
   "outputs": [
    {
     "name": "stdout",
     "output_type": "stream",
     "text": [
      "WARNING:tensorflow:From /opt/conda/envs/Python36/lib/python3.6/site-packages/tensorflow/python/ops/resource_variable_ops.py:435: colocate_with (from tensorflow.python.framework.ops) is deprecated and will be removed in a future version.\n",
      "Instructions for updating:\n",
      "Colocations handled automatically by placer.\n"
     ]
    }
   ],
   "source": [
    "model.compile(optimizer='adam',\n",
    "              loss='binary_crossentropy',\n",
    "              metrics=['accuracy'])"
   ]
  },
  {
   "cell_type": "code",
   "execution_count": 12,
   "metadata": {},
   "outputs": [
    {
     "name": "stdout",
     "output_type": "stream",
     "text": [
      "WARNING:tensorflow:From /opt/conda/envs/Python36/lib/python3.6/site-packages/tensorflow/python/ops/math_ops.py:3066: to_int32 (from tensorflow.python.ops.math_ops) is deprecated and will be removed in a future version.\n",
      "Instructions for updating:\n",
      "Use tf.cast instead.\n",
      "Epoch 1/20\n",
      "1714/1714 [==============================] - 41s 24ms/sample - loss: 0.6918 - acc: 0.5578\n",
      "Epoch 2/20\n",
      "1714/1714 [==============================] - 48s 28ms/sample - loss: 0.6855 - acc: 0.5916\n",
      "Epoch 3/20\n",
      "1714/1714 [==============================] - 47s 27ms/sample - loss: 0.6809 - acc: 0.5963\n",
      "Epoch 4/20\n",
      "1714/1714 [==============================] - 47s 27ms/sample - loss: 0.6768 - acc: 0.5951\n",
      "Epoch 5/20\n",
      "1714/1714 [==============================] - 49s 28ms/sample - loss: 0.6728 - acc: 0.5951\n",
      "Epoch 6/20\n",
      "1714/1714 [==============================] - 48s 28ms/sample - loss: 0.6701 - acc: 0.5951\n",
      "Epoch 7/20\n",
      "1714/1714 [==============================] - 48s 28ms/sample - loss: 0.6682 - acc: 0.5951\n",
      "Epoch 8/20\n",
      "1714/1714 [==============================] - 43s 25ms/sample - loss: 0.6667 - acc: 0.5951\n",
      "Epoch 9/20\n",
      "1714/1714 [==============================] - 41s 24ms/sample - loss: 0.6655 - acc: 0.5951\n",
      "Epoch 10/20\n",
      "1714/1714 [==============================] - 41s 24ms/sample - loss: 0.6647 - acc: 0.5951\n",
      "Epoch 11/20\n",
      "1714/1714 [==============================] - 43s 25ms/sample - loss: 0.6640 - acc: 0.5951\n",
      "Epoch 12/20\n",
      "1714/1714 [==============================] - 42s 24ms/sample - loss: 0.6635 - acc: 0.5951\n",
      "Epoch 13/20\n",
      "1714/1714 [==============================] - 45s 26ms/sample - loss: 0.6626 - acc: 0.5951\n",
      "Epoch 14/20\n",
      "1714/1714 [==============================] - 44s 26ms/sample - loss: 0.6622 - acc: 0.5951\n",
      "Epoch 15/20\n",
      "1714/1714 [==============================] - 40s 23ms/sample - loss: 0.6614 - acc: 0.5951\n",
      "Epoch 16/20\n",
      "1714/1714 [==============================] - 42s 25ms/sample - loss: 0.6608 - acc: 0.5951\n",
      "Epoch 17/20\n",
      "1714/1714 [==============================] - 42s 24ms/sample - loss: 0.6602 - acc: 0.5951\n",
      "Epoch 18/20\n",
      "1714/1714 [==============================] - 44s 26ms/sample - loss: 0.6598 - acc: 0.5951\n",
      "Epoch 19/20\n",
      "1714/1714 [==============================] - 48s 28ms/sample - loss: 0.6589 - acc: 0.5951\n",
      "Epoch 20/20\n",
      "1714/1714 [==============================] - 44s 26ms/sample - loss: 0.6583 - acc: 0.5951\n"
     ]
    },
    {
     "data": {
      "text/plain": [
       "<tensorflow.python.keras.callbacks.History at 0x7f16ad6d3e80>"
      ]
     },
     "execution_count": 12,
     "metadata": {},
     "output_type": "execute_result"
    }
   ],
   "source": [
    "model.fit(X_trainset, y_trainset, epochs=20)"
   ]
  },
  {
   "cell_type": "markdown",
   "metadata": {},
   "source": [
    "### Results"
   ]
  },
  {
   "cell_type": "code",
   "execution_count": 13,
   "metadata": {},
   "outputs": [
    {
     "name": "stdout",
     "output_type": "stream",
     "text": [
      " - 8s - loss: 0.6706 - acc: 0.6150\n",
      "\n",
      "Test accuracy: 0.614966\n"
     ]
    }
   ],
   "source": [
    "test_loss, test_acc = model.evaluate(X_testset, y_testset, verbose=2)\n",
    "\n",
    "print('\\nTest accuracy:', test_acc)"
   ]
  },
  {
   "cell_type": "markdown",
   "metadata": {},
   "source": [
    "#### 61% seems like a good result, betting sites usually pay 1,83 odd for guessing it right, so the expected return: 1,83 * 0,61 + 0 * 0,39= 1,1163, so if the model works in real life it could generate 11,63% profit for each match in avarage\n",
    "#### The result of other models are in the 'Modelling results.xlsx' file\n",
    "#### Overfitting was prevented with early stopping (limiting number of epochs)"
   ]
  },
  {
   "cell_type": "markdown",
   "metadata": {},
   "source": [
    "### Try to prepare the model with less variable (with variables that are easy to acces)"
   ]
  },
  {
   "cell_type": "code",
   "execution_count": 14,
   "metadata": {},
   "outputs": [
    {
     "data": {
      "text/plain": [
       "array([[ 8.5 ,  5.  ,  1.36,  1.57,  2.37,  7.14,  7.  ,  3.  ,  4.  ,\n",
       "        10.  ]])"
      ]
     },
     "execution_count": 14,
     "metadata": {},
     "output_type": "execute_result"
    }
   ],
   "source": [
    "X=df_data_0[['B365H','B365D','B365A','B365>2.5','B365<2.5','B365 H-A','Place home','Place away','Place diff','Place sum']].values\n",
    "X[0:1]"
   ]
  },
  {
   "cell_type": "code",
   "execution_count": 15,
   "metadata": {},
   "outputs": [
    {
     "data": {
      "text/plain": [
       "(2449, 10)"
      ]
     },
     "execution_count": 15,
     "metadata": {},
     "output_type": "execute_result"
    }
   ],
   "source": [
    "scaler = StandardScaler()\n",
    "X_std=scaler.fit_transform(X)\n",
    "X_std.shape"
   ]
  },
  {
   "cell_type": "code",
   "execution_count": 16,
   "metadata": {},
   "outputs": [
    {
     "data": {
      "text/plain": [
       "(1714, 10)"
      ]
     },
     "execution_count": 16,
     "metadata": {},
     "output_type": "execute_result"
    }
   ],
   "source": [
    "from sklearn.model_selection import train_test_split\n",
    "X_trainset, X_testset, y_trainset, y_testset = train_test_split(X_std, Y, test_size=0.3, random_state=3)\n",
    "X_trainset.shape"
   ]
  },
  {
   "cell_type": "code",
   "execution_count": 45,
   "metadata": {},
   "outputs": [],
   "source": [
    "model = keras.Sequential([\n",
    "    keras.layers.Dense(4, input_shape=(10,)  ,activation='relu'),\n",
    "    keras.layers.Dense(4, activation='relu'),\n",
    "    keras.layers.Dense(1, activation='sigmoid')\n",
    "    \n",
    "])\n",
    "model.compile(optimizer='adam',\n",
    "              loss='binary_crossentropy',\n",
    "              metrics=['accuracy'])"
   ]
  },
  {
   "cell_type": "code",
   "execution_count": 46,
   "metadata": {},
   "outputs": [
    {
     "name": "stdout",
     "output_type": "stream",
     "text": [
      "Epoch 1/20\n",
      "1714/1714 [==============================] - 43s 25ms/sample - loss: 0.7557 - acc: 0.4638\n",
      "Epoch 2/20\n",
      "1714/1714 [==============================] - 39s 23ms/sample - loss: 0.7121 - acc: 0.5047\n",
      "Epoch 3/20\n",
      "1714/1714 [==============================] - 43s 25ms/sample - loss: 0.6938 - acc: 0.5449\n",
      "Epoch 4/20\n",
      "1714/1714 [==============================] - 44s 26ms/sample - loss: 0.6852 - acc: 0.5630\n",
      "Epoch 5/20\n",
      "1714/1714 [==============================] - 40s 23ms/sample - loss: 0.6803 - acc: 0.5735\n",
      "Epoch 6/20\n",
      "1714/1714 [==============================] - 44s 26ms/sample - loss: 0.6774 - acc: 0.5770\n",
      "Epoch 7/20\n",
      "1714/1714 [==============================] - 42s 24ms/sample - loss: 0.6755 - acc: 0.5846\n",
      "Epoch 8/20\n",
      "1714/1714 [==============================] - 44s 26ms/sample - loss: 0.6742 - acc: 0.5904\n",
      "Epoch 9/20\n",
      "1714/1714 [==============================] - 40s 23ms/sample - loss: 0.6734 - acc: 0.5922\n",
      "Epoch 10/20\n",
      "1714/1714 [==============================] - 42s 24ms/sample - loss: 0.6727 - acc: 0.5928\n",
      "Epoch 11/20\n",
      "1714/1714 [==============================] - 41s 24ms/sample - loss: 0.6721 - acc: 0.5928\n",
      "Epoch 12/20\n",
      "1714/1714 [==============================] - 43s 25ms/sample - loss: 0.6715 - acc: 0.5933\n",
      "Epoch 13/20\n",
      "1714/1714 [==============================] - 42s 24ms/sample - loss: 0.6711 - acc: 0.5933\n",
      "Epoch 14/20\n",
      "1714/1714 [==============================] - 43s 25ms/sample - loss: 0.6707 - acc: 0.5939\n",
      "Epoch 15/20\n",
      "1714/1714 [==============================] - 41s 24ms/sample - loss: 0.6705 - acc: 0.5945\n",
      "Epoch 16/20\n",
      "1714/1714 [==============================] - 41s 24ms/sample - loss: 0.6702 - acc: 0.5945\n",
      "Epoch 17/20\n",
      "1714/1714 [==============================] - 45s 27ms/sample - loss: 0.6699 - acc: 0.5951\n",
      "Epoch 18/20\n",
      "1714/1714 [==============================] - 44s 26ms/sample - loss: 0.6697 - acc: 0.5945\n",
      "Epoch 19/20\n",
      "1714/1714 [==============================] - 40s 23ms/sample - loss: 0.6695 - acc: 0.5945\n",
      "Epoch 20/20\n",
      "1714/1714 [==============================] - 42s 24ms/sample - loss: 0.6692 - acc: 0.5951\n"
     ]
    },
    {
     "data": {
      "text/plain": [
       "<tensorflow.python.keras.callbacks.History at 0x7f1584060780>"
      ]
     },
     "execution_count": 46,
     "metadata": {},
     "output_type": "execute_result"
    }
   ],
   "source": [
    "model.fit(X_trainset, y_trainset, epochs=20)"
   ]
  },
  {
   "cell_type": "code",
   "execution_count": 47,
   "metadata": {},
   "outputs": [
    {
     "name": "stdout",
     "output_type": "stream",
     "text": [
      " - 7s - loss: 0.6699 - acc: 0.6136\n",
      "\n",
      "Test accuracy: 0.61360544\n"
     ]
    }
   ],
   "source": [
    "test_loss, test_acc = model.evaluate(X_testset, y_testset, verbose=2)\n",
    "\n",
    "print('\\nTest accuracy:', test_acc)"
   ]
  },
  {
   "cell_type": "markdown",
   "metadata": {},
   "source": [
    "#### Seems like we can keep the performance of the model with less variable"
   ]
  },
  {
   "cell_type": "code",
   "execution_count": 48,
   "metadata": {},
   "outputs": [
    {
     "data": {
      "text/plain": [
       "array([[0.5534794 ],\n",
       "       [0.61737925],\n",
       "       [0.5452771 ],\n",
       "       [0.58987015],\n",
       "       [0.54971045]], dtype=float32)"
      ]
     },
     "execution_count": 48,
     "metadata": {},
     "output_type": "execute_result"
    }
   ],
   "source": [
    "model.predict(X_testset)[0:5]"
   ]
  },
  {
   "cell_type": "markdown",
   "metadata": {},
   "source": [
    "#### Check the performace on the last 100 football match, to see how well the model performs in the recent matches"
   ]
  },
  {
   "cell_type": "code",
   "execution_count": 49,
   "metadata": {},
   "outputs": [
    {
     "data": {
      "text/plain": [
       "(100, 10)"
      ]
     },
     "execution_count": 49,
     "metadata": {},
     "output_type": "execute_result"
    }
   ],
   "source": [
    "X_100=X_std[0:100]\n",
    "Y_100=Y[0:100]\n",
    "X_100.shape"
   ]
  },
  {
   "cell_type": "code",
   "execution_count": 50,
   "metadata": {},
   "outputs": [
    {
     "name": "stdout",
     "output_type": "stream",
     "text": [
      " - 1s - loss: 0.6839 - acc: 0.5900\n",
      "\n",
      "Test accuracy: 0.59\n"
     ]
    }
   ],
   "source": [
    "test_loss, test_acc = model.evaluate(X_100, Y_100, verbose=2)\n",
    "\n",
    "print('\\nTest accuracy:', test_acc)"
   ]
  },
  {
   "cell_type": "markdown",
   "metadata": {},
   "source": [
    "#### A bit lower accuracy (59%), but above 54,6 %, so hopefully we can still use it to generate profit"
   ]
  },
  {
   "cell_type": "markdown",
   "metadata": {},
   "source": [
    "### Saving the model"
   ]
  },
  {
   "cell_type": "code",
   "execution_count": 51,
   "metadata": {},
   "outputs": [],
   "source": [
    "model.save( \"corner9-model.h5\" )"
   ]
  },
  {
   "cell_type": "code",
   "execution_count": 52,
   "metadata": {},
   "outputs": [
    {
     "name": "stdout",
     "output_type": "stream",
     "text": [
      "corner9-model.h5\r\n"
     ]
    }
   ],
   "source": [
    "!tar -zcvf corner9-model.tgz corner9-model.h5"
   ]
  },
  {
   "cell_type": "code",
   "execution_count": 53,
   "metadata": {},
   "outputs": [
    {
     "name": "stdout",
     "output_type": "stream",
     "text": [
      "total 120\r\n",
      "-rw-r----- 1 dsxuser dsxuser 28416 Jan 19 09:23 corner_9_5_-model.h5\r\n",
      "-rw-r----- 1 dsxuser dsxuser 28416 Jan 19 09:24 corner-9-5-model.h5\r\n",
      "-rw-r----- 1 dsxuser dsxuser 28416 Jan 19 10:04 corner9-model.h5\r\n",
      "-rw-r----- 1 dsxuser dsxuser  3257 Jan 19 10:04 corner9-model.tgz\r\n",
      "-rw-r----- 1 dsxuser dsxuser 28416 Jan 19 09:24 message-classification-model.h5\r\n",
      "-rw-r----- 1 dsxuser dsxuser  3253 Jan 19 09:25 message-classification-model.tgz\r\n"
     ]
    }
   ],
   "source": [
    "!ls -l"
   ]
  },
  {
   "cell_type": "code",
   "execution_count": 54,
   "metadata": {},
   "outputs": [],
   "source": [
    "from watson_machine_learning_client import WatsonMachineLearningAPIClient\n",
    "wml_credentials = {\n",
    "    \"apikey\"    : \"vTAQj-41jEpVVQdFkoVDNtGkjoQUGm4RN5FVgFJvJi5K\",\n",
    "    \"instance_id\" : \"c8c21203-8d35-475b-b52f-0c376e8c1ea4\",\n",
    "    \"url\"    : \"https://us-south.ml.cloud.ibm.com\"\n",
    "}\n",
    "client = WatsonMachineLearningAPIClient( wml_credentials )"
   ]
  },
  {
   "cell_type": "code",
   "execution_count": 57,
   "metadata": {},
   "outputs": [],
   "source": [
    "metadata = {\n",
    "    client.repository.ModelMetaNames.NAME: \"keras model\",\n",
    "    client.repository.ModelMetaNames.FRAMEWORK_NAME: \"tensorflow\",\n",
    "    client.repository.ModelMetaNames.FRAMEWORK_VERSION: \"1.13\",\n",
    "    client.repository.ModelMetaNames.FRAMEWORK_LIBRARIES: [{'name':'keras', 'version': '2.1.6'}]}\n",
    "model_details = client.repository.store_model( model=\"corner9-model.tgz\", meta_props=metadata )"
   ]
  },
  {
   "cell_type": "code",
   "execution_count": 58,
   "metadata": {},
   "outputs": [
    {
     "name": "stdout",
     "output_type": "stream",
     "text": [
      "\n",
      "\n",
      "#######################################################################################\n",
      "\n",
      "Synchronous deployment creation for uid: 'd32d367d-9a34-4603-809e-ee945c25b89c' started\n",
      "\n",
      "#######################################################################################\n",
      "\n",
      "\n",
      "INITIALIZING\n",
      "DEPLOY_IN_PROGRESS..\n",
      "DEPLOY_SUCCESS\n",
      "\n",
      "\n",
      "------------------------------------------------------------------------------------------------\n",
      "Successfully finished deployment creation, deployment_uid='edee7088-f4ba-452c-9d9f-dc0c5a5d827a'\n",
      "------------------------------------------------------------------------------------------------\n",
      "\n",
      "\n"
     ]
    }
   ],
   "source": [
    "model_id = model_details[\"metadata\"][\"guid\"]\n",
    "deployment_details = client.deployments.create( artifact_uid=model_id, name=\"Keras deployment\" )"
   ]
  },
  {
   "cell_type": "code",
   "execution_count": 59,
   "metadata": {},
   "outputs": [
    {
     "data": {
      "text/plain": [
       "{'metadata': {'guid': 'edee7088-f4ba-452c-9d9f-dc0c5a5d827a',\n",
       "  'url': 'https://us-south.ml.cloud.ibm.com/v3/wml_instances/c8c21203-8d35-475b-b52f-0c376e8c1ea4/deployments/edee7088-f4ba-452c-9d9f-dc0c5a5d827a',\n",
       "  'created_at': '2020-01-19T10:07:49.721Z',\n",
       "  'modified_at': '2020-01-19T10:07:49.886Z'},\n",
       " 'entity': {'runtime_environment': 'None Provided',\n",
       "  'name': 'Keras deployment',\n",
       "  'scoring_url': 'https://us-south.ml.cloud.ibm.com/v3/wml_instances/c8c21203-8d35-475b-b52f-0c376e8c1ea4/deployments/edee7088-f4ba-452c-9d9f-dc0c5a5d827a/online',\n",
       "  'deployable_asset': {'name': 'keras model',\n",
       "   'url': 'https://us-south.ml.cloud.ibm.com/v3/wml_instances/c8c21203-8d35-475b-b52f-0c376e8c1ea4/published_models/d32d367d-9a34-4603-809e-ee945c25b89c',\n",
       "   'guid': 'd32d367d-9a34-4603-809e-ee945c25b89c',\n",
       "   'created_at': '2020-01-19T10:07:49.692Z',\n",
       "   'type': 'model'},\n",
       "  'description': 'Description of deployment',\n",
       "  'status_details': {'status': 'DEPLOY_SUCCESS'},\n",
       "  'model_type': 'tensorflow-1.13',\n",
       "  'status': 'DEPLOY_SUCCESS',\n",
       "  'type': 'online',\n",
       "  'deployed_version': {'url': 'https://us-south.ml.cloud.ibm.com/v3/ml_assets/models/d32d367d-9a34-4603-809e-ee945c25b89c/versions/a8a90a80-875e-4fe2-b491-644a5d3437d5',\n",
       "   'guid': 'a8a90a80-875e-4fe2-b491-644a5d3437d5'}}}"
      ]
     },
     "execution_count": 59,
     "metadata": {},
     "output_type": "execute_result"
    }
   ],
   "source": [
    "deployment_details"
   ]
  },
  {
   "cell_type": "code",
   "execution_count": 64,
   "metadata": {},
   "outputs": [
    {
     "data": {
      "text/plain": [
       "{'fields': ['prediction', 'prediction_classes', 'probability'],\n",
       " 'values': [[[0.657500684261322], [1], [0.657500684261322]],\n",
       "  [[0.6473328471183777], [1], [0.6473328471183777]],\n",
       "  [[0.5883569121360779], [1], [0.5883569121360779]],\n",
       "  [[0.5870886445045471], [1], [0.5870886445045471]],\n",
       "  [[0.6874839663505554], [1], [0.6874839663505554]]]}"
      ]
     },
     "execution_count": 64,
     "metadata": {},
     "output_type": "execute_result"
    }
   ],
   "source": [
    "model_endpoint_url='https://us-south.ml.cloud.ibm.com/v3/wml_instances/c8c21203-8d35-475b-b52f-0c376e8c1ea4/deployments/edee7088-f4ba-452c-9d9f-dc0c5a5d827a/online'\n",
    "payload={ \"values\" : X_std[0:5].tolist() }  \n",
    "client.deployments.score( model_endpoint_url, payload )"
   ]
  },
  {
   "cell_type": "code",
   "execution_count": 65,
   "metadata": {},
   "outputs": [
    {
     "data": {
      "text/plain": [
       "array([[0.6575007 ],\n",
       "       [0.6473328 ],\n",
       "       [0.5883569 ],\n",
       "       [0.58708864],\n",
       "       [0.6874839 ]], dtype=float32)"
      ]
     },
     "execution_count": 65,
     "metadata": {},
     "output_type": "execute_result"
    }
   ],
   "source": [
    "model.predict(X_std)[0:5]"
   ]
  }
 ],
 "metadata": {
  "kernelspec": {
   "display_name": "Python 3.6",
   "language": "python",
   "name": "python3"
  },
  "language_info": {
   "codemirror_mode": {
    "name": "ipython",
    "version": 3
   },
   "file_extension": ".py",
   "mimetype": "text/x-python",
   "name": "python",
   "nbconvert_exporter": "python",
   "pygments_lexer": "ipython3",
   "version": "3.6.8"
  }
 },
 "nbformat": 4,
 "nbformat_minor": 1
}
